{
 "cells": [
  {
   "cell_type": "markdown",
   "metadata": {
    "collapsed": false
   },
   "source": [
    "## __Example Dataset Analisys__"
   ]
  },
  {
   "cell_type": "code",
   "execution_count": 1,
   "metadata": {
    "collapsed": false,
    "pycharm": {
     "is_executing": true
    }
   },
   "outputs": [
    {
     "name": "stdout",
     "output_type": "stream",
     "text": [
      "[INFO] 2023-02-02 22:33:48,324 [app.LoggingService.DefaultLogger] Reading 21. This might take a while. Coffee-break ☕?\n",
      "[<app.WappMessageIngestService.WppMessageDto.WppMessageDto object at 0x7f8e562f7220>, <app.WappMessageIngestService.WppMessageDto.WppMessageDto object at 0x7f8e237eb3a0>, <app.WappMessageIngestService.WppMessageDto.WppMessageDto object at 0x7f8e2ff57370>, <app.WappMessageIngestService.WppMessageDto.WppMessageDto object at 0x7f8e237eb610>, <app.WappMessageIngestService.WppMessageDto.WppMessageDto object at 0x7f8e237eb3d0>, <app.WappMessageIngestService.WppMessageDto.WppMessageDto object at 0x7f8e237eb790>, <app.WappMessageIngestService.WppMessageDto.WppMessageDto object at 0x7f8e237eb5b0>, <app.WappMessageIngestService.WppMessageDto.WppMessageDto object at 0x7f8e237eb4f0>, <app.WappMessageIngestService.WppMessageDto.WppMessageDto object at 0x7f8e237eb670>, <app.WappMessageIngestService.WppMessageDto.WppMessageDto object at 0x7f8e237eb700>, <app.WappMessageIngestService.WppMessageDto.WppMessageDto object at 0x7f8e237eb7f0>, <app.WappMessageIngestService.WppMessageDto.WppMessageDto object at 0x7f8e237eb880>, <app.WappMessageIngestService.WppMessageDto.WppMessageDto object at 0x7f8e237eb8b0>]\n",
      "[INFO] 2023-02-02 22:33:48,348 [app.LoggingService.DefaultLogger] Persistence process done. 13 items processed.\n",
      "------Message count by Author------\n",
      "author\n",
      "Fulano de Tal    5\n",
      "Sicrano          4\n",
      "Beltrano         2\n",
      "SYSTEM           2\n",
      "dtype: int64\n"
     ]
    }
   ],
   "source": [
    "import os\n",
    "import sys; sys.path.append(\"../\") # add app root to the jupyter notebook \n",
    "\n",
    "from app.main import read_dataset_file, load_database_with_dataset, engine\n",
    "import pandas as pd\n",
    "\n",
    "# read export file from whatsapp export - path has to point to a directory or file inside project\n",
    "wpp_messages = read_dataset_file(os.path.join('.datasets', 'example.txt'))\n",
    "\n",
    "# load processed file to a database\n",
    "load_result = load_database_with_dataset(wpp_messages)\n",
    "\n",
    "# read messages in database \n",
    "messages = pd.read_sql('messages', engine)\n",
    "\n",
    "print('------Message count by Author------')\n",
    "print(messages.value_counts('author'))"
   ]
  }
 ],
 "metadata": {
  "kernelspec": {
   "display_name": "unix_venv",
   "language": "python",
   "name": "python3"
  },
  "language_info": {
   "codemirror_mode": {
    "name": "ipython",
    "version": 3
   },
   "file_extension": ".py",
   "mimetype": "text/x-python",
   "name": "python",
   "nbconvert_exporter": "python",
   "pygments_lexer": "ipython3",
   "version": "3.10.6 (main, Nov 14 2022, 16:10:14) [GCC 11.3.0]"
  },
  "orig_nbformat": 4,
  "vscode": {
   "interpreter": {
    "hash": "654622f0497490bbcdf52ed91573564c88f2b494ef3645a3bdf9b64abd1b8617"
   }
  }
 },
 "nbformat": 4,
 "nbformat_minor": 2
}
